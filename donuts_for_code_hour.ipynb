{
 "cells": [
  {
   "cell_type": "markdown",
   "metadata": {},
   "source": [
    "# Walking fly trajectories and Donut analysis"
   ]
  },
  {
   "cell_type": "code",
   "execution_count": null,
   "metadata": {},
   "outputs": [],
   "source": [
    "%load_ext autoreload\n",
    "%autoreload 2\n",
    "import pandas as pd\n",
    "import matplotlib.pyplot as plt\n",
    "import numpy as np"
   ]
  },
  {
   "cell_type": "markdown",
   "metadata": {},
   "source": [
    "## 1. Loading the data"
   ]
  },
  {
   "cell_type": "code",
   "execution_count": null,
   "metadata": {},
   "outputs": [],
   "source": [
    "from object_detection_mini import load"
   ]
  },
  {
   "cell_type": "code",
   "execution_count": null,
   "metadata": {},
   "outputs": [],
   "source": [
    "# todo: make the file smaller!!!"
   ]
  },
  {
   "cell_type": "code",
   "execution_count": null,
   "metadata": {},
   "outputs": [],
   "source": [
    "# t_from=100\n",
    "# t_to=300"
   ]
  },
  {
   "cell_type": "code",
   "execution_count": null,
   "metadata": {},
   "outputs": [],
   "source": [
    "yml_config, df = load(\"flytrax20191119_111111.csv\")"
   ]
  },
  {
   "cell_type": "code",
   "execution_count": null,
   "metadata": {},
   "outputs": [],
   "source": [
    "yml_config"
   ]
  },
  {
   "cell_type": "code",
   "execution_count": null,
   "metadata": {},
   "outputs": [],
   "source": [
    "df.head()"
   ]
  },
  {
   "cell_type": "markdown",
   "metadata": {},
   "source": [
    "## 2. Plotting the data"
   ]
  },
  {
   "cell_type": "code",
   "execution_count": null,
   "metadata": {},
   "outputs": [],
   "source": [
    "# \"simple\" way\n",
    "plt.figure(figsize=(8,8))\n",
    "plt.gca().axis('equal')\n",
    "plt.plot(df.x_px, df.y_px, '.', markersize=1)"
   ]
  },
  {
   "cell_type": "code",
   "execution_count": null,
   "metadata": {},
   "outputs": [],
   "source": [
    "df.t.max()"
   ]
  },
  {
   "cell_type": "code",
   "execution_count": null,
   "metadata": {},
   "outputs": [],
   "source": [
    "from flyplot import plot_trajectory"
   ]
  },
  {
   "cell_type": "code",
   "execution_count": null,
   "metadata": {},
   "outputs": [],
   "source": [
    "f, ax = plt.subplots(figsize=(8,8))\n",
    "clrs = plot_trajectory(df.x_px, df.y_px, ax, tmax=600, markersize=10)\n",
    "plt.colorbar(clrs, ax=ax)"
   ]
  },
  {
   "cell_type": "markdown",
   "metadata": {},
   "source": [
    "### Indicate arena border, center and reward location"
   ]
  },
  {
   "cell_type": "markdown",
   "metadata": {},
   "source": [
    "We will use matplotlib artist [Circle](https://matplotlib.org/api/_as_gen/matplotlib.patches.Circle.html)"
   ]
  },
  {
   "cell_type": "code",
   "execution_count": null,
   "metadata": {},
   "outputs": [],
   "source": [
    "# cx, cy -- coordinates of arena center:\n",
    "cx = yml_config['valid_region']['Circle']['center_x']\n",
    "cy = yml_config['valid_region']['Circle']['center_y']\n",
    "# arena_r -- arena radius\n",
    "arena_r = yml_config['valid_region']['Circle']['radius']\n",
    "print('Arena is a circle with center ({},{}) and radius {}'.format(cx, cy, arena_r))"
   ]
  },
  {
   "cell_type": "code",
   "execution_count": null,
   "metadata": {},
   "outputs": [],
   "source": [
    "from matplotlib.patches import Circle"
   ]
  },
  {
   "cell_type": "code",
   "execution_count": null,
   "metadata": {},
   "outputs": [],
   "source": [
    "ss_x = 660\n",
    "ss_y = 565\n",
    "ss_r = 50"
   ]
  },
  {
   "cell_type": "code",
   "execution_count": null,
   "metadata": {},
   "outputs": [],
   "source": [
    "f, ax = plt.subplots(figsize=(13,13))\n",
    "\n",
    "clrs = plot_trajectory(df.x_px, df.y_px, ax, tmin=t_from, tmax=t_to,markersize=10)\n",
    "plt.colorbar(clrs, ax=ax)\n",
    "\n",
    "# arena border\n",
    "arena_artist = Circle((cx,cy),arena_r, ec='black', color='none', lw=2)\n",
    "ax.add_artist(arena_artist)\n",
    "\n",
    "# adjust ax limits so that the whole arena fits\n",
    "ax.set_xlim(cx-arena_r-5, cx+arena_r+5)\n",
    "ax.set_ylim(cy-arena_r-5, cy+arena_r+5)\n",
    "\n",
    "# arena center\n",
    "ax.scatter(cx,cy,marker='+', s=300, color='black', zorder=5)\n",
    "\n",
    "# sweet spot\n",
    "ss_artist = Circle((ss_x,ss_y),ss_r, ec='red', color='none', lw=2,zorder=5)\n",
    "ax.add_artist(ss_artist)\n"
   ]
  },
  {
   "cell_type": "markdown",
   "metadata": {},
   "source": [
    "## 3. Here comes the donut\n",
    "\n",
    "### Assumptions: \n",
    " - Arena is symmetric; the location preference in empty clean arena depends only on distance from the border.\n",
    "\n",
    "So, if there is nothing special about the 'sweet spot', the flies should spend similar amount of time in any circle of radius $r_{ss}$ on the same distance from arena center. \n",
    "\n",
    " - The temperature gradient is negligible inside the sweet spot"
   ]
  },
  {
   "cell_type": "markdown",
   "metadata": {},
   "source": [
    "Now we will concider the area containing all the possible circles at that distance from arena center -- the donut!\n",
    "\n",
    "Given the assumptions, for the ideal fly that walks infinitely in the ideal arena:\n",
    "$$ \\frac{S_{ss}}{S_o} = \\frac{t_{ss}}{t_o} = \\frac{N_{ss}}{N_o} $$\n",
    "where $N_{area}$ is number of detections in area."
   ]
  },
  {
   "cell_type": "code",
   "execution_count": null,
   "metadata": {},
   "outputs": [],
   "source": [
    "# The donut parameters:\n",
    "dss = np.sqrt((cx - ss_x)**2+(cy - ss_y)**2)"
   ]
  },
  {
   "cell_type": "code",
   "execution_count": null,
   "metadata": {},
   "outputs": [],
   "source": [
    "dss"
   ]
  },
  {
   "cell_type": "code",
   "execution_count": null,
   "metadata": {},
   "outputs": [],
   "source": [
    "r_inner = dss - ss_r\n",
    "r_outer = dss + ss_r"
   ]
  },
  {
   "cell_type": "code",
   "execution_count": null,
   "metadata": {},
   "outputs": [],
   "source": [
    "f, ax = plt.subplots(figsize=(13,13))\n",
    "\n",
    "clrs = plot_trajectory(df.x_px, df.y_px, ax, tmin=t_from, tmax=t_to)\n",
    "plt.colorbar(clrs, ax=ax)\n",
    "\n",
    "# arena border\n",
    "arena_artist = Circle((cx,cy),arena_r, ec='black', color='none', lw=2)\n",
    "ax.add_artist(arena_artist)\n",
    "\n",
    "# adjust ax limits so that the whole arena fits\n",
    "ax.set_xlim(cx-arena_r-5, cx+arena_r+5)\n",
    "ax.set_ylim(cy-arena_r-5, cy+arena_r+5)\n",
    "\n",
    "# arena center\n",
    "ax.scatter(cx,cy,marker='+', s=300, color='black', zorder=5)\n",
    "\n",
    "# sweet spot\n",
    "ss_artist = Circle((ss_x,ss_y),ss_r, ec='red', color='none', lw=2,zorder=5)\n",
    "ax.add_artist(ss_artist)\n",
    "\n",
    "# donut!\n",
    "donut_inner_artist = Circle((cx,cy),r_inner, ec='brown', color='none', lw=2,zorder=5)\n",
    "donut_outer_artist = Circle((cx,cy),r_outer, ec='brown', color='none', lw=2,zorder=5)\n",
    "ax.add_artist(donut_inner_artist)\n",
    "ax.add_artist(donut_outer_artist)\n"
   ]
  },
  {
   "cell_type": "markdown",
   "metadata": {},
   "source": [
    "## 4. Counting detections "
   ]
  },
  {
   "cell_type": "markdown",
   "metadata": {},
   "source": [
    "We need the following values:\n",
    " - coordinates of arena center (`cx`, `cy`)\n",
    " - parameters of circle: radius, coordinates of center: (`ss_r`, `ss_x`, `ss_y`)"
   ]
  },
  {
   "cell_type": "markdown",
   "metadata": {},
   "source": [
    "### 4.1 Inside the circle (sweet spot)"
   ]
  },
  {
   "cell_type": "code",
   "execution_count": null,
   "metadata": {},
   "outputs": [],
   "source": [
    "df['inside_ss'] = (df.x_px - ss_x)**2 + (df.y_px - ss_y)**2 < ss_r**2"
   ]
  },
  {
   "cell_type": "code",
   "execution_count": null,
   "metadata": {},
   "outputs": [],
   "source": [
    "df_in_ss = df[df.inside_ss]\n",
    "df_outside_ss = df[df.inside_ss == False]\n",
    "plt.plot(df_outside_ss.x_px, df_outside_ss.y_px, '.', markersize=1)\n",
    "plt.plot(df_in_ss.x_px, df_in_ss.y_px, '.', markersize=1)\n",
    "# plt.plot(df_in_ss.x_px, df_in_ss.y_px, '.')"
   ]
  },
  {
   "cell_type": "code",
   "execution_count": null,
   "metadata": {},
   "outputs": [],
   "source": [
    "import seaborn as sns"
   ]
  },
  {
   "cell_type": "code",
   "execution_count": null,
   "metadata": {},
   "outputs": [],
   "source": [
    "ax = sns.scatterplot(x=\"x_px\", y=\"y_px\", hue='inside_ss',markers=\",\", data=df,s=1, linewidth=0)\n"
   ]
  },
  {
   "cell_type": "code",
   "execution_count": null,
   "metadata": {},
   "outputs": [],
   "source": [
    "n_all_detections = df.shape[0]"
   ]
  },
  {
   "cell_type": "code",
   "execution_count": null,
   "metadata": {},
   "outputs": [],
   "source": [
    "n_ss_detections = df.inside_ss.sum()"
   ]
  },
  {
   "cell_type": "code",
   "execution_count": null,
   "metadata": {},
   "outputs": [],
   "source": [
    "print(\"Detections in sweet spot: {} / {}\".format(n_ss_detections, n_all_detections))"
   ]
  },
  {
   "cell_type": "code",
   "execution_count": null,
   "metadata": {},
   "outputs": [],
   "source": [
    "df_in_ss.shape[0]"
   ]
  },
  {
   "cell_type": "markdown",
   "metadata": {},
   "source": [
    "### 4.2 Inside the donut"
   ]
  },
  {
   "cell_type": "code",
   "execution_count": null,
   "metadata": {},
   "outputs": [],
   "source": [
    "in_outer_circle = (df.x_px - cx)**2 + (df.y_px - cy)**2 < r_outer**2"
   ]
  },
  {
   "cell_type": "code",
   "execution_count": null,
   "metadata": {},
   "outputs": [],
   "source": [
    "out_inner_circle = (df.x_px - cx)**2 + (df.y_px - cy)**2 > r_inner**2"
   ]
  },
  {
   "cell_type": "code",
   "execution_count": null,
   "metadata": {},
   "outputs": [],
   "source": [
    "df_donut = df[in_outer_circle & out_inner_circle]"
   ]
  },
  {
   "cell_type": "code",
   "execution_count": null,
   "metadata": {},
   "outputs": [],
   "source": [
    "plt.plot(df.x_px, df.y_px, '.', markersize=1)\n",
    "plt.plot(df_donut.x_px, df_donut.y_px, '.', markersize=1)\n"
   ]
  },
  {
   "cell_type": "code",
   "execution_count": null,
   "metadata": {},
   "outputs": [],
   "source": [
    "n_donut_detections = df_donut.shape[0]"
   ]
  },
  {
   "cell_type": "code",
   "execution_count": null,
   "metadata": {},
   "outputs": [],
   "source": [
    "print(\"Detections in donut: {} / {}\".format(n_donut_detections, n_all_detections))"
   ]
  },
  {
   "cell_type": "markdown",
   "metadata": {},
   "source": [
    "## 5. Donut ratio"
   ]
  },
  {
   "cell_type": "code",
   "execution_count": null,
   "metadata": {},
   "outputs": [],
   "source": [
    "donut_ratio_observed = n_ss_detections / n_donut_detections"
   ]
  },
  {
   "cell_type": "code",
   "execution_count": null,
   "metadata": {},
   "outputs": [],
   "source": [
    "donut_ratio_observed"
   ]
  },
  {
   "cell_type": "code",
   "execution_count": null,
   "metadata": {},
   "outputs": [],
   "source": [
    "s_ratio = ss_r / (4*dss)"
   ]
  },
  {
   "cell_type": "code",
   "execution_count": null,
   "metadata": {},
   "outputs": [],
   "source": [
    "s_ratio"
   ]
  },
  {
   "cell_type": "code",
   "execution_count": null,
   "metadata": {},
   "outputs": [],
   "source": [
    "s_ss=ss_r**2\n",
    "s_inner = r_inner**2\n",
    "s_outer = r_outer**2\n",
    "s_donut = s_outer-s_inner\n",
    "sratio = s_ss / s_donut"
   ]
  },
  {
   "cell_type": "code",
   "execution_count": null,
   "metadata": {},
   "outputs": [],
   "source": [
    "sratio"
   ]
  },
  {
   "cell_type": "code",
   "execution_count": null,
   "metadata": {},
   "outputs": [],
   "source": [
    "relative_donut_ratio = donut_ratio_observed / s_ratio"
   ]
  },
  {
   "cell_type": "code",
   "execution_count": null,
   "metadata": {},
   "outputs": [],
   "source": [
    "relative_donut_ratio"
   ]
  },
  {
   "cell_type": "code",
   "execution_count": null,
   "metadata": {},
   "outputs": [],
   "source": []
  }
 ],
 "metadata": {
  "kernelspec": {
   "display_name": "Python 3",
   "language": "python",
   "name": "python3"
  },
  "language_info": {
   "codemirror_mode": {
    "name": "ipython",
    "version": 3
   },
   "file_extension": ".py",
   "mimetype": "text/x-python",
   "name": "python",
   "nbconvert_exporter": "python",
   "pygments_lexer": "ipython3",
   "version": "3.7.0"
  }
 },
 "nbformat": 4,
 "nbformat_minor": 2
}
